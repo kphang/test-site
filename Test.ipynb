{
 "cells": [
  {
   "cell_type": "code",
   "execution_count": 1,
   "metadata": {},
   "outputs": [],
   "source": [
    "import functions\n",
    "import httpx\n",
    "import anyio"
   ]
  },
  {
   "cell_type": "code",
   "execution_count": 46,
   "metadata": {},
   "outputs": [],
   "source": [
    "def run_gets(n:int=1)->list:\n",
    "    r = []\n",
    "    for i in range(n):\n",
    "        r.append(httpx.get(\"http://127.0.0.1:9000/limited\", timeout=httpx.Timeout(30)))\n",
    "    return r\n",
    "        "
   ]
  },
  {
   "cell_type": "code",
   "execution_count": 51,
   "metadata": {},
   "outputs": [],
   "source": [
    "r= run_gets(11)"
   ]
  },
  {
   "cell_type": "code",
   "execution_count": 56,
   "metadata": {},
   "outputs": [
    {
     "data": {
      "text/plain": [
       "'{\"request\":{\"path\":\"/limited\",\"headers\":{\"host\":\"127.0.0.1:9000\",\"accept\":\"*/*\",\"accept-encoding\":\"gzip, deflate\",\"connection\":\"keep-alive\",\"user-agent\":\"python-httpx/0.24.1\"},\"queryParams\":{},\"clientAddress\":[\"127.0.0.1\",37874],\"requestBody\":\"\"},\"config\":{\"LimitConfig\":{\"rate\":5,\"rateperiod\":\"minute\",\"quota\":10000,\"quotaperiod\":\"day\",\"maxconcur\":10,\"throttle\":true,\"maxranddelay\":3.0},\"randdelay\":1.7281650398087627},\"receivedAt\":\"2023-06-26T20:26:47.088224\",\"fulfilledAt\":\"2023-06-26T20:26:48.820465\"}'"
      ]
     },
     "execution_count": 56,
     "metadata": {},
     "output_type": "execute_result"
    }
   ],
   "source": [
    "r[9].text"
   ]
  },
  {
   "cell_type": "code",
   "execution_count": 57,
   "metadata": {},
   "outputs": [
    {
     "data": {
      "text/plain": [
       "datetime.timedelta(seconds=3, microseconds=473461)"
      ]
     },
     "execution_count": 57,
     "metadata": {},
     "output_type": "execute_result"
    }
   ],
   "source": [
    "r[9].elapsed"
   ]
  },
  {
   "cell_type": "code",
   "execution_count": 3,
   "metadata": {},
   "outputs": [
    {
     "name": "stdout",
     "output_type": "stream",
     "text": [
      "--- 2.784771203994751 seconds ---\n"
     ]
    },
    {
     "ename": "RuntimeError",
     "evalue": "Already running asyncio in this thread",
     "output_type": "error",
     "traceback": [
      "\u001b[0;31m---------------------------------------------------------------------------\u001b[0m",
      "\u001b[0;31mRuntimeError\u001b[0m                              Traceback (most recent call last)",
      "Cell \u001b[0;32mIn[3], line 1\u001b[0m\n\u001b[0;32m----> 1\u001b[0m r2 \u001b[39m=\u001b[39m anyio\u001b[39m.\u001b[39;49mrun(\u001b[39mawait\u001b[39;49;00m functions\u001b[39m.\u001b[39;49mmain(n\u001b[39m=\u001b[39;49m\u001b[39m10\u001b[39;49m))\n",
      "File \u001b[0;32m~/.local/lib/python3.11/site-packages/anyio/_core/_eventloop.py:54\u001b[0m, in \u001b[0;36mrun\u001b[0;34m(func, backend, backend_options, *args)\u001b[0m\n\u001b[1;32m     52\u001b[0m     \u001b[39mpass\u001b[39;00m\n\u001b[1;32m     53\u001b[0m \u001b[39melse\u001b[39;00m:\n\u001b[0;32m---> 54\u001b[0m     \u001b[39mraise\u001b[39;00m \u001b[39mRuntimeError\u001b[39;00m(\u001b[39mf\u001b[39m\u001b[39m\"\u001b[39m\u001b[39mAlready running \u001b[39m\u001b[39m{\u001b[39;00masynclib_name\u001b[39m}\u001b[39;00m\u001b[39m in this thread\u001b[39m\u001b[39m\"\u001b[39m)\n\u001b[1;32m     56\u001b[0m \u001b[39mtry\u001b[39;00m:\n\u001b[1;32m     57\u001b[0m     asynclib \u001b[39m=\u001b[39m import_module(\u001b[39mf\u001b[39m\u001b[39m\"\u001b[39m\u001b[39m..._backends._\u001b[39m\u001b[39m{\u001b[39;00mbackend\u001b[39m}\u001b[39;00m\u001b[39m\"\u001b[39m, package\u001b[39m=\u001b[39m\u001b[39m__name__\u001b[39m)\n",
      "\u001b[0;31mRuntimeError\u001b[0m: Already running asyncio in this thread"
     ]
    }
   ],
   "source": [
    "r2 = anyio.run(await functions.main(n=10))"
   ]
  },
  {
   "cell_type": "code",
   "execution_count": null,
   "metadata": {},
   "outputs": [],
   "source": []
  }
 ],
 "metadata": {
  "kernelspec": {
   "display_name": "Python 3",
   "language": "python",
   "name": "python3"
  },
  "language_info": {
   "codemirror_mode": {
    "name": "ipython",
    "version": 3
   },
   "file_extension": ".py",
   "mimetype": "text/x-python",
   "name": "python",
   "nbconvert_exporter": "python",
   "pygments_lexer": "ipython3",
   "version": "3.11.3"
  },
  "orig_nbformat": 4
 },
 "nbformat": 4,
 "nbformat_minor": 2
}
